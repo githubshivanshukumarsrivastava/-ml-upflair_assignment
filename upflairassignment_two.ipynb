{
 "cells": [
  {
   "cell_type": "markdown",
   "metadata": {},
   "source": [
    "# Ans =1\n"
   ]
  },
  {
   "cell_type": "code",
   "execution_count": 6,
   "metadata": {},
   "outputs": [
    {
     "name": "stdout",
     "output_type": "stream",
     "text": [
      "    1 \n",
      "   1 1 \n",
      "  1 2 1 \n",
      " 1 3 3 1 \n",
      "1 4 6 4 1 \n"
     ]
    }
   ],
   "source": [
    "\n",
    "def pascals_triangle(rows):\n",
    "    for i in range(rows):\n",
    "        num = 1  \n",
    "        print(\" \" * (rows - i - 1), end=\"\") \n",
    "        for j in range(i + 1):\n",
    "            print(num, end=\" \")\n",
    "            num = num * (i - j) // (j + 1) \n",
    "        print()  \n",
    "pascals_triangle(5)"
   ]
  },
  {
   "cell_type": "markdown",
   "metadata": {},
   "source": [
    "# Ans =2\n"
   ]
  },
  {
   "cell_type": "markdown",
   "metadata": {},
   "source": [
    "The continue statement is used inside loops (for or while) to skip the remaining code in the current iteration and move directly to the next iteration of the loop. It does not terminate the loop; it just bypasses the rest of the code for that particular cycle.\n"
   ]
  },
  {
   "cell_type": "code",
   "execution_count": 12,
   "metadata": {},
   "outputs": [
    {
     "name": "stdout",
     "output_type": "stream",
     "text": [
      "15\n",
      "30\n",
      "3\n"
     ]
    }
   ],
   "source": [
    "list=[5,10,15,20,25,30,3]\n",
    "for i in list:\n",
    "    if i % 3!= 0:\n",
    "        continue\n",
    "    print(i)\n"
   ]
  },
  {
   "cell_type": "markdown",
   "metadata": {},
   "source": [
    "# Ans =3"
   ]
  },
  {
   "cell_type": "code",
   "execution_count": 15,
   "metadata": {},
   "outputs": [
    {
     "name": "stdout",
     "output_type": "stream",
     "text": [
      "[(3, 4, 5), (5, 12, 13), (6, 8, 10), (7, 24, 25), (8, 15, 17), (9, 12, 15), (9, 40, 41), (10, 24, 26), (12, 16, 20), (12, 35, 37), (14, 48, 50), (15, 20, 25), (15, 36, 39), (16, 30, 34), (18, 24, 30), (20, 21, 29), (21, 28, 35), (24, 32, 40), (27, 36, 45), (30, 40, 50)]\n"
     ]
    }
   ],
   "source": [
    "\n",
    "triplets = [\n",
    "    (a, b, c) for a in range(1, 51) \n",
    "              for b in range(a, 51) \n",
    "              for c in range(b, 51) \n",
    "              if a**2 + b**2 == c**2\n",
    "]\n",
    "\n",
    "print(triplets)\n"
   ]
  },
  {
   "cell_type": "markdown",
   "metadata": {},
   "source": [
    "# Ans =4"
   ]
  },
  {
   "cell_type": "code",
   "execution_count": 16,
   "metadata": {},
   "outputs": [
    {
     "name": "stdout",
     "output_type": "stream",
     "text": [
      "24\n"
     ]
    }
   ],
   "source": [
    "def max_consecutive_sum(nums, k):\n",
    "    if not nums or k > len(nums):\n",
    "        return None \n",
    "    \n",
    "    max_sum = sum(nums[:k]) \n",
    "    current_sum = max_sum\n",
    "    \n",
    "    for i in range(k, len(nums)):\n",
    "        current_sum += nums[i] - nums[i - k]  \n",
    "        max_sum = max(max_sum, current_sum)\n",
    "    \n",
    "    return max_sum\n",
    "\n",
    "\n",
    "nums = [1, 2, 3, 4, 5, 6, 7, 8, 9]\n",
    "k = 3\n",
    "print(max_consecutive_sum(nums, k)) "
   ]
  },
  {
   "cell_type": "markdown",
   "metadata": {},
   "source": [
    "# Ans 5"
   ]
  },
  {
   "cell_type": "code",
   "execution_count": 17,
   "metadata": {},
   "outputs": [
    {
     "name": "stdout",
     "output_type": "stream",
     "text": [
      "Before function call: [1, 2, 3]\n",
      "After function call: [1, 2, 3, 4]\n"
     ]
    }
   ],
   "source": [
    "\n",
    "def modify_list(lst, item):\n",
    "    lst.append(item)  \n",
    "my_list = [1, 2, 3]\n",
    "print(\"Before function call:\", my_list)\n",
    "modify_list(my_list, 4)\n",
    "print(\"After function call:\", my_list) "
   ]
  },
  {
   "cell_type": "markdown",
   "metadata": {},
   "source": [
    "# Ans 6"
   ]
  },
  {
   "cell_type": "code",
   "execution_count": 18,
   "metadata": {},
   "outputs": [
    {
     "name": "stdout",
     "output_type": "stream",
     "text": [
      "Fibonacci sequence: [0, 1, 1, 2, 3]\n"
     ]
    }
   ],
   "source": [
    "def fibonacci(n):\n",
    "    sequence = []\n",
    "    a, b = 0, 1\n",
    "    for _ in range(n):\n",
    "        sequence.append(a)\n",
    "        a, b = b, a + b\n",
    "    return sequence\n",
    "num_terms = int(input(\"Enter the number of terms: \"))\n",
    "print(\"Fibonacci sequence:\", fibonacci(num_terms))"
   ]
  }
 ],
 "metadata": {
  "kernelspec": {
   "display_name": "Python 3",
   "language": "python",
   "name": "python3"
  },
  "language_info": {
   "codemirror_mode": {
    "name": "ipython",
    "version": 3
   },
   "file_extension": ".py",
   "mimetype": "text/x-python",
   "name": "python",
   "nbconvert_exporter": "python",
   "pygments_lexer": "ipython3",
   "version": "3.12.2"
  }
 },
 "nbformat": 4,
 "nbformat_minor": 2
}

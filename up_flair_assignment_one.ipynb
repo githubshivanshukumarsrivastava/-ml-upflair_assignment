{
 "cells": [
  {
   "cell_type": "markdown",
   "metadata": {},
   "source": [
    "# ans 1"
   ]
  },
  {
   "cell_type": "markdown",
   "metadata": {},
   "source": [
    " Ans 1-> list is a built in data type that stores the values .it can store elements of different data type i.e int ,float, string etc.\n",
    " list is mutable also i.e we can change the value in list .\n",
    "\n",
    " tuple-> it is also built in data type . it store numeric data type value. one of the most important thing is that tuple is immutable .\n",
    "\n",
    "\n",
    " if i have to choose one of them (i.e list and tuple ) i would prefer list because list is mutable that is we can change in it and it also store different data type value. "
   ]
  },
  {
   "cell_type": "markdown",
   "metadata": {},
   "source": [
    "# Ans 2"
   ]
  },
  {
   "cell_type": "markdown",
   "metadata": {},
   "source": [
    "Ans 2->Python can handle type conversion between different data types using built-in functions or implicit casting. \n",
    "\n",
    "\"Built-in functions \"\n",
    "------------------------------\n",
    "\n",
    ".>  int(): Converts a value to an integer\n",
    ".>  float(): Converts a value to a floating-point number\n",
    ".>  str(): Converts a value to a string\n",
    ".>  bool(): Converts a value to a boolean (True or False)\n",
    ".>  list(): Converts an iterable to a list\n",
    ".>  tuple(): Converts an iterable to a tuple\n",
    ".>  set(): Converts an iterable to a set\n",
    ".>  dict(): Converts an iterable of key-value pairs to a dictionary\n",
    "\n",
    "\n",
    "\"Implicit casting\"\n",
    "---------------------\n",
    "\n",
    "Python automatically converts one data type to another to perform some operation\n",
    "This is done by the compiler or interpreter without any code notation\n",
    "This is often invisible to the user"
   ]
  },
  {
   "cell_type": "markdown",
   "metadata": {},
   "source": [
    "# Ans 3"
   ]
  },
  {
   "cell_type": "code",
   "execution_count": 1,
   "metadata": {},
   "outputs": [
    {
     "name": "stdout",
     "output_type": "stream",
     "text": [
      "Incremented value: 11\n"
     ]
    }
   ],
   "source": [
    "\n",
    "x = 1\n",
    "x += 10\n",
    "print(\"Incremented value:\", x) \n"
   ]
  },
  {
   "cell_type": "markdown",
   "metadata": {},
   "source": [
    "# Ans 4\n"
   ]
  },
  {
   "cell_type": "code",
   "execution_count": 8,
   "metadata": {},
   "outputs": [
    {
     "name": "stdout",
     "output_type": "stream",
     "text": [
      "1700 is not a leap year.\n"
     ]
    }
   ],
   "source": [
    "year = int(input(\"Enter a year: \"))\n",
    "\n",
    "if (year % 4 == 0 and year % 100 != 0) or (year % 400 == 0):\n",
    "    print(year, \"is a leap year.\")\n",
    "else:\n",
    "    print(year, \"is not a leap year.\")\n"
   ]
  },
  {
   "cell_type": "markdown",
   "metadata": {},
   "source": [
    "# Ans 5\n"
   ]
  },
  {
   "cell_type": "code",
   "execution_count": 16,
   "metadata": {},
   "outputs": [
    {
     "name": "stdout",
     "output_type": "stream",
     "text": [
      "grade of the student is : D\n"
     ]
    }
   ],
   "source": [
    "marks=int(input(\"enter your marks:\"))\n",
    "if(marks>=90):\n",
    "    grade ='A'\n",
    "elif(marks>=80 and marks<=89):\n",
    "    grade ='B'\n",
    "elif(marks>=70 and marks<=79):\n",
    "    grade ='C'\n",
    "elif(marks>=60 and marks<=69):\n",
    "    grade ='D'\n",
    "elif(marks<60):\n",
    "    grade ='F'\n",
    "\n",
    "print(\"grade of the student is :\",grade)               \n"
   ]
  }
 ],
 "metadata": {
  "kernelspec": {
   "display_name": "Python 3",
   "language": "python",
   "name": "python3"
  },
  "language_info": {
   "codemirror_mode": {
    "name": "ipython",
    "version": 3
   },
   "file_extension": ".py",
   "mimetype": "text/x-python",
   "name": "python",
   "nbconvert_exporter": "python",
   "pygments_lexer": "ipython3",
   "version": "3.12.2"
  }
 },
 "nbformat": 4,
 "nbformat_minor": 2
}

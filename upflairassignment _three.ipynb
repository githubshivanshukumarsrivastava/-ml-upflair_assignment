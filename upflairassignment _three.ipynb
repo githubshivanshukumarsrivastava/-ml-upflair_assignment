{
 "cells": [
  {
   "cell_type": "markdown",
   "metadata": {},
   "source": [
    "# Ans 1\n",
    "\n"
   ]
  },
  {
   "cell_type": "code",
   "execution_count": 3,
   "metadata": {},
   "outputs": [
    {
     "name": "stdout",
     "output_type": "stream",
     "text": [
      "{'a': 1, 'b': 2, 'c': 3}\n"
     ]
    }
   ],
   "source": [
    "merge_lists=  lambda key,value:(dict(zip(key,value)))\n",
    "key=[\"a\",\"b\",\"c\"]\n",
    "value=[1,2,3]\n",
    "result = merge_lists(key ,value)\n",
    "print(result)"
   ]
  },
  {
   "cell_type": "markdown",
   "metadata": {},
   "source": [
    "# Ans 2"
   ]
  },
  {
   "cell_type": "code",
   "execution_count": 4,
   "metadata": {},
   "outputs": [
    {
     "name": "stdout",
     "output_type": "stream",
     "text": [
      "90.0\n",
      "180.0\n"
     ]
    }
   ],
   "source": [
    "class product:\n",
    "    discount =10\n",
    "\n",
    "    def __init__(self,price,name):\n",
    "        self.name = name\n",
    "        self.price= price\n",
    "\n",
    "    def get_discount(self):\n",
    "        discount= self.price * product.discount/100\n",
    "        return self.price - discount\n",
    "\n",
    "p1 = product(100,\"phone\")\n",
    "p2 = product(200,\"laptop\")\n",
    "\n",
    "print(p1.get_discount())\n",
    "print(p2.get_discount())\n"
   ]
  },
  {
   "cell_type": "markdown",
   "metadata": {},
   "source": [
    "# Ans 3"
   ]
  },
  {
   "cell_type": "code",
   "execution_count": 3,
   "metadata": {},
   "outputs": [
    {
     "name": "stdout",
     "output_type": "stream",
     "text": [
      "Area of Circle: 78.539816\n",
      "Area of Rectangle: 24\n"
     ]
    }
   ],
   "source": [
    "import math\n",
    "\n",
    "class Shape:\n",
    "    def area(self):\n",
    "        pass \n",
    "\n",
    "\n",
    "class Circle(Shape):\n",
    "    def __init__(self, radius):\n",
    "        self.radius = radius\n",
    "\n",
    "    def area(self):\n",
    "        return math.pi * self.radius ** 2  \n",
    "\n",
    "\n",
    "class Rectangle(Shape):\n",
    "    def __init__(self, length, width):\n",
    "        self.length = length\n",
    "        self.width = width\n",
    "\n",
    "    def area(self):\n",
    "        return self.length * self.width  \n",
    "\n",
    "\n",
    "circle = Circle(5)\n",
    "rectangle = Rectangle(4, 6)\n",
    "\n",
    "\n",
    "print(f\"Area of Circle: {circle.area():2f}\")\n",
    "print(f\"Area of Rectangle: {rectangle.area()}\")\n"
   ]
  },
  {
   "cell_type": "markdown",
   "metadata": {},
   "source": [
    "# Ans =4"
   ]
  },
  {
   "cell_type": "code",
   "execution_count": 5,
   "metadata": {},
   "outputs": [
    {
     "name": "stdout",
     "output_type": "stream",
     "text": [
      "Name: Alice, Age: 35\n",
      "Employee ID: 101, Salary: 75000\n",
      "Department: IT\n"
     ]
    }
   ],
   "source": [
    "\n",
    "class Person:\n",
    "    def __init__(self, name, age):\n",
    "        self.name = name\n",
    "        self.age = age\n",
    "\n",
    "    def show_person_details(self):\n",
    "        print(f\"Name: {self.name}, Age: {self.age}\")\n",
    "\n",
    "\n",
    "class Employee:\n",
    "    def __init__(self, emp_id, salary):\n",
    "        self.emp_id = emp_id\n",
    "        self.salary = salary\n",
    "\n",
    "    def show_employee_details(self):\n",
    "        print(f\"Employee ID: {self.emp_id}, Salary: {self.salary}\")\n",
    "\n",
    "\n",
    "class Manager(Person, Employee):\n",
    "    def __init__(self, name, age, emp_id, salary, department):\n",
    "        \n",
    "        Person.__init__(self, name, age)\n",
    "        Employee.__init__(self, emp_id, salary)\n",
    "        self.department = department\n",
    "\n",
    "    def show_manager_details(self):\n",
    "        self.show_person_details()  \n",
    "        self.show_employee_details()  \n",
    "        print(f\"Department: {self.department}\")\n",
    "\n",
    "manager = Manager(\"Alice\", 35, 101, 75000, \"IT\")\n",
    "\n",
    "\n",
    "manager.show_manager_details()\n"
   ]
  },
  {
   "cell_type": "markdown",
   "metadata": {},
   "source": [
    "# Ans 5"
   ]
  },
  {
   "cell_type": "code",
   "execution_count": 10,
   "metadata": {},
   "outputs": [
    {
     "name": "stdout",
     "output_type": "stream",
     "text": [
      "Woof! Woof!\n",
      "Meow! Meow!\n",
      "Moo! Moo!\n"
     ]
    }
   ],
   "source": [
    "\n",
    "class Animal:\n",
    "    def make_sound(self):\n",
    "        pass  \n",
    "\n",
    "class Dog(Animal):\n",
    "    def make_sound(self):\n",
    "        return \"Woof! Woof!\"\n",
    "\n",
    "\n",
    "class Cat(Animal):\n",
    "    def make_sound(self):\n",
    "        return \"Meow! Meow!\"\n",
    "\n",
    "\n",
    "class Cow(Animal):\n",
    "    def make_sound(self):\n",
    "        return \"Moo! Moo!\"\n",
    "\n",
    "\n",
    "def play_sound(animal):\n",
    "    print(animal.make_sound())  \n",
    "\n",
    "\n",
    "dog = Dog()\n",
    "cat = Cat()\n",
    "cow = Cow()\n",
    "\n",
    "\n",
    "play_sound(dog)  \n",
    "play_sound(cat)   \n",
    "play_sound(cow)  \n"
   ]
  },
  {
   "cell_type": "markdown",
   "metadata": {},
   "source": [
    "# Ans 6"
   ]
  },
  {
   "cell_type": "code",
   "execution_count": 11,
   "metadata": {},
   "outputs": [
    {
     "name": "stdout",
     "output_type": "stream",
     "text": [
      "\n",
      "Car Details:\n",
      "Vehicle ID: 101, Brand: Toyota, Model: Corolla, Rent per Day: 3000\n",
      "Seats: 5, Fuel Type: Petrol\n",
      "\n",
      "Bike Details:\n",
      "Vehicle ID: 201, Brand: Yamaha, Model: R15, Rent per Day: 1000\n",
      "Engine Capacity: 155cc\n"
     ]
    }
   ],
   "source": [
    "# Base class: Vehicle\n",
    "class Vehicle:\n",
    "    def __init__(self, vehicle_id, brand, model, rent_per_day):\n",
    "        self.vehicle_id = vehicle_id\n",
    "        self.brand = brand\n",
    "        self.model = model\n",
    "        self.rent_per_day = rent_per_day\n",
    "\n",
    "    def display_details(self):\n",
    "        print(f\"Vehicle ID: {self.vehicle_id}, Brand: {self.brand}, Model: {self.model}, Rent per Day: {self.rent_per_day}\")\n",
    "\n",
    "# Derived class: Car\n",
    "class Car(Vehicle):\n",
    "    def __init__(self, vehicle_id, brand, model, rent_per_day, seats, fuel_type):\n",
    "        super().__init__(vehicle_id, brand, model, rent_per_day)\n",
    "        self.seats = seats\n",
    "        self.fuel_type = fuel_type\n",
    "\n",
    "    def display_details(self):\n",
    "        super().display_details()\n",
    "        print(f\"Seats: {self.seats}, Fuel Type: {self.fuel_type}\")\n",
    "\n",
    "# Derived class: Bike\n",
    "class Bike(Vehicle):\n",
    "    def __init__(self, vehicle_id, brand, model, rent_per_day, engine_capacity):\n",
    "        super().__init__(vehicle_id, brand, model, rent_per_day)\n",
    "        self.engine_capacity = engine_capacity\n",
    "\n",
    "    def display_details(self):\n",
    "        super().display_details()\n",
    "        print(f\"Engine Capacity: {self.engine_capacity}cc\")\n",
    "\n",
    "\n",
    "car1 = Car(101, \"Toyota\", \"Corolla\", 3000, 5, \"Petrol\")\n",
    "bike1 = Bike(201, \"Yamaha\", \"R15\", 1000, 155)\n",
    "\n",
    "print(\"\\nCar Details:\")\n",
    "car1.display_details()\n",
    "\n",
    "print(\"\\nBike Details:\")\n",
    "bike1.display_details()\n"
   ]
  }
 ],
 "metadata": {
  "kernelspec": {
   "display_name": "Python 3",
   "language": "python",
   "name": "python3"
  },
  "language_info": {
   "codemirror_mode": {
    "name": "ipython",
    "version": 3
   },
   "file_extension": ".py",
   "mimetype": "text/x-python",
   "name": "python",
   "nbconvert_exporter": "python",
   "pygments_lexer": "ipython3",
   "version": "3.12.2"
  }
 },
 "nbformat": 4,
 "nbformat_minor": 2
}

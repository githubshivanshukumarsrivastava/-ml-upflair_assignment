{
 "cells": [
  {
   "cell_type": "markdown",
   "metadata": {},
   "source": [
    "lamda is a one line function "
   ]
  },
  {
   "cell_type": "code",
   "execution_count": 1,
   "metadata": {},
   "outputs": [
    {
     "name": "stdout",
     "output_type": "stream",
     "text": [
      "5\n"
     ]
    }
   ],
   "source": [
    "add = lambda x,y:x + y\n",
    "print(add(2,3))"
   ]
  },
  {
   "cell_type": "markdown",
   "metadata": {},
   "source": [
    "# oops"
   ]
  },
  {
   "cell_type": "code",
   "execution_count": 3,
   "metadata": {},
   "outputs": [
    {
     "name": "stdout",
     "output_type": "stream",
     "text": [
      "10\n"
     ]
    }
   ],
   "source": [
    "class Arya:\n",
    "    a=10\n",
    "a1= Arya()\n",
    "print(a1.a)    \n",
    "    "
   ]
  },
  {
   "cell_type": "code",
   "execution_count": null,
   "metadata": {},
   "outputs": [
    {
     "name": "stdout",
     "output_type": "stream",
     "text": [
      "hod\n"
     ]
    }
   ],
   "source": [
    "class Arya:\n",
    "    def hod():\n",
    "        print(\"hod\")\n",
    "a1 =Arya.hod()\n",
    "\n"
   ]
  },
  {
   "cell_type": "markdown",
   "metadata": {},
   "source": [
    "# constructor"
   ]
  },
  {
   "cell_type": "code",
   "execution_count": 8,
   "metadata": {},
   "outputs": [
    {
     "name": "stdout",
     "output_type": "stream",
     "text": [
      "10\n"
     ]
    }
   ],
   "source": [
    "class Arya:\n",
    "    def __init__(self):\n",
    "        self.a = 10  #instance  variable\n",
    "a1= Arya()        \n",
    "print(a1.a)       \n"
   ]
  },
  {
   "cell_type": "code",
   "execution_count": 7,
   "metadata": {},
   "outputs": [
    {
     "name": "stdout",
     "output_type": "stream",
     "text": [
      "<class 'int'>\n"
     ]
    }
   ],
   "source": [
    "a=10\n",
    "print(type(a))"
   ]
  },
  {
   "cell_type": "code",
   "execution_count": null,
   "metadata": {},
   "outputs": [
    {
     "name": "stdout",
     "output_type": "stream",
     "text": [
      "arun agarwal \n",
      "500\n",
      "jaipur\n"
     ]
    }
   ],
   "source": [
    "class Arya_old:\n",
    "    def __init__(self, name ,age,address):\n",
    "\n",
    "        self.director_name = \"arun agarwal \"  \n",
    "        self.director_age = 500\n",
    "        self.director_address=\"jaipur\"\n",
    "shiv=Arya_old()         \n",
    "print(shiv.director_name)\n",
    "print(shiv.director_age)\n",
    "print(shiv.director_address)\n",
    "    "
   ]
  },
  {
   "cell_type": "code",
   "execution_count": 14,
   "metadata": {},
   "outputs": [
    {
     "name": "stdout",
     "output_type": "stream",
     "text": [
      "shiv\n",
      "30\n",
      "jaipur\n"
     ]
    }
   ],
   "source": [
    "class Arya_old:\n",
    "    def __init__(self, name ,age,address):\n",
    "\n",
    "        self.director_name = name \n",
    "        self.director_age = age\n",
    "        self.director_address= address\n",
    "shiv=Arya_old(\"shiv\", 30, \"jaipur\")         \n",
    "print(shiv.director_name)\n",
    "print(shiv.director_age)\n",
    "print(shiv.director_address)\n",
    "    "
   ]
  },
  {
   "cell_type": "code",
   "execution_count": null,
   "metadata": {},
   "outputs": [
    {
     "name": "stdout",
     "output_type": "stream",
     "text": [
      "jaipur\n",
      "shiv\n"
     ]
    }
   ],
   "source": [
    "class Arya:\n",
    "    def __init__(self,address,director):\n",
    "        self.address = address\n",
    "        self.director = director\n",
    "    def display(self):  # method\n",
    "        print(self.address)\n",
    "        print(self.director)\n",
    "obj =Arya(\"jaipur\",\"shiv\")            \n",
    "obj.display()        "
   ]
  },
  {
   "cell_type": "markdown",
   "metadata": {},
   "source": [
    "# Inheritance"
   ]
  },
  {
   "cell_type": "code",
   "execution_count": 17,
   "metadata": {},
   "outputs": [
    {
     "name": "stdout",
     "output_type": "stream",
     "text": [
      "hello\n",
      "shiv\n"
     ]
    }
   ],
   "source": [
    "class Arya:\n",
    "    name = \"shiv\"\n",
    "    # def __init__(self,address,director):\n",
    "    #     self.address = address\n",
    "    #     self.director = director\n",
    "class AryaOld(Arya):\n",
    "    print(\"hello\")\n",
    "\n",
    "\n",
    "a=AryaOld()    \n",
    "print(a.name)"
   ]
  },
  {
   "cell_type": "code",
   "execution_count": 25,
   "metadata": {},
   "outputs": [
    {
     "name": "stdout",
     "output_type": "stream",
     "text": [
      "customer details\n",
      "123456\n"
     ]
    }
   ],
   "source": [
    "#multiple inheritance\n",
    "class BankDetails:\n",
    "    def __init__(self,account_no):\n",
    "        self.account_no = account_no\n",
    "    def customer(self):\n",
    "        print(\"customer details\")\n",
    "class customer(BankDetails):\n",
    "    def __init__(self,account_no):\n",
    "        #self.name = name\n",
    "        BankDetails.__init__(self,account_no)\n",
    "    def display(self):\n",
    "            print(self.account_no)\n",
    "           # print(self.name)    \n",
    "obj = customer(123456)\n",
    "obj.customer()\n",
    "obj.display()"
   ]
  },
  {
   "cell_type": "code",
   "execution_count": 27,
   "metadata": {},
   "outputs": [
    {
     "name": "stdout",
     "output_type": "stream",
     "text": [
      "son\n"
     ]
    },
    {
     "data": {
      "text/plain": [
       "'arya'"
      ]
     },
     "execution_count": 27,
     "metadata": {},
     "output_type": "execute_result"
    }
   ],
   "source": [
    "class grandfather:\n",
    "    grandfathername=\"arya\"\n",
    "class father:\n",
    "    fathername=\"aryaold\"\n",
    "\n",
    "class son(grandfather,father):\n",
    "    print(\"son\")\n",
    "obj =son()\n",
    "obj.grandfathername     "
   ]
  },
  {
   "cell_type": "code",
   "execution_count": null,
   "metadata": {},
   "outputs": [
    {
     "name": "stdout",
     "output_type": "stream",
     "text": [
      "son\n"
     ]
    },
    {
     "data": {
      "text/plain": [
       "'arya'"
      ]
     },
     "execution_count": 29,
     "metadata": {},
     "output_type": "execute_result"
    }
   ],
   "source": [
    "class grandfather:\n",
    "    grandfathername=\"arya\"\n",
    "\n",
    "class father(grandfather):\n",
    "    fathername=\"aryaold\"\n",
    "\n",
    "class son(father):\n",
    "    print(\"son\")\n",
    "obj =son()\n",
    "obj.grandfathername"
   ]
  },
  {
   "cell_type": "code",
   "execution_count": 30,
   "metadata": {},
   "outputs": [],
   "source": [
    "# hybrid inheritance\n",
    "class Person:\n",
    "    pass\n",
    "class Male(Person):\n",
    "    pass\n",
    "class Female(Person):\n",
    "    pass\n",
    "class child(Male ,Female):\n",
    "    pass"
   ]
  },
  {
   "cell_type": "markdown",
   "metadata": {},
   "source": [
    "\n",
    "# polymorphism"
   ]
  },
  {
   "cell_type": "code",
   "execution_count": 31,
   "metadata": {},
   "outputs": [
    {
     "name": "stdout",
     "output_type": "stream",
     "text": [
      "arya main campus\n"
     ]
    }
   ],
   "source": [
    "name =\"arya main campus\"\n",
    "print(name)"
   ]
  },
  {
   "cell_type": "code",
   "execution_count": null,
   "metadata": {},
   "outputs": [],
   "source": []
  }
 ],
 "metadata": {
  "kernelspec": {
   "display_name": "Python 3",
   "language": "python",
   "name": "python3"
  },
  "language_info": {
   "codemirror_mode": {
    "name": "ipython",
    "version": 3
   },
   "file_extension": ".py",
   "mimetype": "text/x-python",
   "name": "python",
   "nbconvert_exporter": "python",
   "pygments_lexer": "ipython3",
   "version": "3.12.2"
  }
 },
 "nbformat": 4,
 "nbformat_minor": 2
}
